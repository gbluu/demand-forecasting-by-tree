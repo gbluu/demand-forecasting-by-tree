{
 "cells": [
  {
   "cell_type": "code",
   "execution_count": 46,
   "metadata": {},
   "outputs": [],
   "source": [
    "import pandas as pd\n",
    "import numpy as np"
   ]
  },
  {
   "cell_type": "code",
   "execution_count": 12,
   "metadata": {},
   "outputs": [],
   "source": [
    "def import_data():\n",
    "    data = pd.read_csv('./norway_new_car_sales_by_make.csv')\n",
    "    data['Period'] = data['Year'].astype(str) + '-' + data['Month'].astype(str).str.zfill(2)\n",
    "    df = pd.pivot_table(data=data, values='Quantity', index='Make', columns='Period', aggfunc='sum', fill_value=0)\n",
    "    return df\n",
    "\n",
    "df = import_data()\n"
   ]
  },
  {
   "cell_type": "code",
   "execution_count": 96,
   "metadata": {},
   "outputs": [
    {
     "name": "stdout",
     "output_type": "stream",
     "text": [
      "[[16  9 21 20 17 21]\n",
      " [ 9 21 20 17 21 14]\n",
      " [21 20 17 21 14 12]] \n",
      "----\n",
      " [[14]\n",
      " [12]\n",
      " [15]] \n",
      "----\n",
      " [[20 17 21 14 12 15]\n",
      " [17 21 14 12 15 10]\n",
      " [21 14 12 15 10 18]] \n",
      "----\n",
      " [[10]\n",
      " [18]\n",
      " [21]]\n"
     ]
    }
   ],
   "source": [
    "def datasets(df, x_len=6, y_len=1, test_loop=3):\n",
    "    D = df.values\n",
    "    rows, periods = D.shape\n",
    "    \n",
    "    # Training set creation\n",
    "    loops = periods + 1 - x_len - y_len\n",
    "    train = []\n",
    "    for col in range(loops):\n",
    "        train.append(D[:,col:col+x_len+y_len])\n",
    "    train = np.vstack(train)\n",
    "    X_train, Y_train = np.split(train, [-y_len],axis=1 )\n",
    "    \n",
    "    # Test set creation\n",
    "    if test_loop > 0:\n",
    "        X_train, X_test = np.split(X_train, [-rows*test_loop], axis=0)\n",
    "        Y_train, Y_test = np.split(Y_train, [-rows*test_loop], axis=0)\n",
    "    else:\n",
    "        X_test = D[:, -x_len:]\n",
    "        Y_test = np.full((X_test.shape[0],y_len), np.nan)\n",
    "        \n",
    "        \n",
    "    \n",
    "    print(X_train, \"\\n----\\n\",Y_train, \"\\n----\\n\",X_test, \"\\n----\\n\",Y_test)\n",
    "    return \n",
    "\n",
    "datasets(df.iloc[0:1,0:12])\n",
    "    "
   ]
  },
  {
   "cell_type": "code",
   "execution_count": 92,
   "metadata": {},
   "outputs": [
    {
     "data": {
      "text/html": [
       "<div>\n",
       "<style scoped>\n",
       "    .dataframe tbody tr th:only-of-type {\n",
       "        vertical-align: middle;\n",
       "    }\n",
       "\n",
       "    .dataframe tbody tr th {\n",
       "        vertical-align: top;\n",
       "    }\n",
       "\n",
       "    .dataframe thead th {\n",
       "        text-align: right;\n",
       "    }\n",
       "</style>\n",
       "<table border=\"1\" class=\"dataframe\">\n",
       "  <thead>\n",
       "    <tr style=\"text-align: right;\">\n",
       "      <th>Period</th>\n",
       "      <th>2007-01</th>\n",
       "      <th>2007-02</th>\n",
       "      <th>2007-03</th>\n",
       "      <th>2007-04</th>\n",
       "      <th>2007-05</th>\n",
       "      <th>2007-06</th>\n",
       "      <th>2007-07</th>\n",
       "      <th>2007-08</th>\n",
       "      <th>2007-09</th>\n",
       "      <th>2007-10</th>\n",
       "      <th>2007-11</th>\n",
       "      <th>2007-12</th>\n",
       "    </tr>\n",
       "    <tr>\n",
       "      <th>Make</th>\n",
       "      <th></th>\n",
       "      <th></th>\n",
       "      <th></th>\n",
       "      <th></th>\n",
       "      <th></th>\n",
       "      <th></th>\n",
       "      <th></th>\n",
       "      <th></th>\n",
       "      <th></th>\n",
       "      <th></th>\n",
       "      <th></th>\n",
       "      <th></th>\n",
       "    </tr>\n",
       "  </thead>\n",
       "  <tbody>\n",
       "    <tr>\n",
       "      <th>Alfa Romeo</th>\n",
       "      <td>16</td>\n",
       "      <td>9</td>\n",
       "      <td>21</td>\n",
       "      <td>20</td>\n",
       "      <td>17</td>\n",
       "      <td>21</td>\n",
       "      <td>14</td>\n",
       "      <td>12</td>\n",
       "      <td>15</td>\n",
       "      <td>10</td>\n",
       "      <td>18</td>\n",
       "      <td>21</td>\n",
       "    </tr>\n",
       "  </tbody>\n",
       "</table>\n",
       "</div>"
      ],
      "text/plain": [
       "Period      2007-01  2007-02  2007-03  2007-04  2007-05  2007-06  2007-07  \\\n",
       "Make                                                                        \n",
       "Alfa Romeo       16        9       21       20       17       21       14   \n",
       "\n",
       "Period      2007-08  2007-09  2007-10  2007-11  2007-12  \n",
       "Make                                                     \n",
       "Alfa Romeo       12       15       10       18       21  "
      ]
     },
     "execution_count": 92,
     "metadata": {},
     "output_type": "execute_result"
    }
   ],
   "source": [
    "df.iloc[0:1,0:12]"
   ]
  },
  {
   "cell_type": "code",
   "execution_count": null,
   "metadata": {},
   "outputs": [],
   "source": []
  }
 ],
 "metadata": {
  "kernelspec": {
   "display_name": "miaow",
   "language": "python",
   "name": "python3"
  },
  "language_info": {
   "codemirror_mode": {
    "name": "ipython",
    "version": 3
   },
   "file_extension": ".py",
   "mimetype": "text/x-python",
   "name": "python",
   "nbconvert_exporter": "python",
   "pygments_lexer": "ipython3",
   "version": "3.10.12"
  }
 },
 "nbformat": 4,
 "nbformat_minor": 2
}
